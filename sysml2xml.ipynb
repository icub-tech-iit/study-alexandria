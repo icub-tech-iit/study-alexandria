{
 "cells": [
  {
   "cell_type": "code",
   "execution_count": 123,
   "metadata": {},
   "outputs": [],
   "source": [
    "from lxml import etree\n",
    "import os\n",
    "import json\n",
    "import pathlib"
   ]
  },
  {
   "cell_type": "code",
   "execution_count": 124,
   "metadata": {},
   "outputs": [],
   "source": [
    "with open('general.json', 'r') as robot_info:\n",
    "    robot_info = json.load(robot_info)\n",
    "with open('par.json', 'r') as part_info:\n",
    "    part_info = json.load(part_info)"
   ]
  },
  {
   "cell_type": "code",
   "execution_count": 125,
   "metadata": {},
   "outputs": [],
   "source": [
    "def create_xml_node(parent, tag, attrib=None, text=None):\n",
    "    element = etree.SubElement(parent, tag, attrib if attrib else {})\n",
    "    if text:\n",
    "        element.text = text\n",
    "    return element"
   ]
  },
  {
   "cell_type": "markdown",
   "metadata": {},
   "source": []
  },
  {
   "cell_type": "code",
   "execution_count": 126,
   "metadata": {},
   "outputs": [],
   "source": [
    "def sysml_to_xml(lines, robotName):\n",
    "    nsmap = {'xi': 'http://www.w3.org/2001/XInclude'}\n",
    "    root = etree.Element('params', {'robot': robotName, 'build': '1'}, nsmap=nsmap)\n",
    "    current_package = None\n",
    "    current_part = None\n",
    "    current_attribute = None\n",
    "\n",
    "    stack = []\n",
    "    count = 0\n",
    "\n",
    "    for line in lines:\n",
    "        line = line.strip()\n",
    "        element = line.split()[0]\n",
    "        match element:\n",
    "            case \"import\":\n",
    "                include_name = line.split()[1].strip('::*;')\n",
    "                if include_name[0].istitle() == False:\n",
    "                    root.insert(0, etree.Element('{http://www.w3.org/2001/XInclude}include', {'href': include_name+\".xml\"}))\n",
    "            # case \"package\":\n",
    "            #     package_name = line.split()[1].strip('{')\n",
    "            #     current_package = create_xml_node(root, 'group',  {'name': package_name})\n",
    "            #     stack.append(current_package)\n",
    "            case \"part\":\n",
    "                c = count\n",
    "                while lines[c-1].startswith(\"attribute\") or lines[c-1].strip().startswith(\"}\"): # Fix indentation\n",
    "                    stack.pop()\n",
    "                    c-=1\n",
    "                tokens = line.split()\n",
    "                name = tokens[1].strip(':')\n",
    "                datatype = None\n",
    "                attrib = {'name': name}\n",
    "                if datatype:\n",
    "                    attrib['type'] = datatype\n",
    "                if '[' in line and ']' in line:  # Handle multiplicity\n",
    "                    multiplicity = line[line.index('[') + 1:line.index(']')]\n",
    "                    # current_part.set('multiplicity', multiplicity)\n",
    "                if ':' in tokens: # Verify if the part is a specification \n",
    "                    inher = tokens[3].strip(':')\n",
    "                    if inher == 'device':\n",
    "                        device_type = tokens[5].strip(\"=\")\n",
    "                        root = etree.Element('device', {'name': ' ', 'type': device_type}, nsmap=nsmap)\n",
    "                else:\n",
    "                    current_part = create_xml_node(stack[-1] if len(stack) > 0 else root, 'group', attrib)\n",
    "                    stack.append(current_part)\n",
    "            case \"attribute\":\n",
    "                c = count\n",
    "                while lines[c-1].startswith(\"attribute\") or lines[c-1].strip().startswith(\"}\"): # Fix indentation\n",
    "                    stack.pop()\n",
    "                    c-=1\n",
    "                tokens = line.split()\n",
    "                name = tokens[1]\n",
    "                datatype = None\n",
    "                value = None\n",
    "                if '='  in line: # The attribute has a default value\n",
    "                    value = tokens[5].strip(';') if len(tokens) > 5 else None\n",
    "                attrib = {'name': name}\n",
    "                if datatype:\n",
    "                    attrib['type'] = datatype\n",
    "                current_attribute = create_xml_node(stack[-1] if len(stack) > 0 else root, 'param', attrib, value)\n",
    "                if '[' in line and ']' in line:  # Handle multiplicity\n",
    "                    multiplicity = line[line.index('[') + 1:line.index(']')]\n",
    "                    current_attribute.set('multiplicity', multiplicity) \n",
    "        count += 1\n",
    "    return root"
   ]
  },
  {
   "cell_type": "code",
   "execution_count": 127,
   "metadata": {},
   "outputs": [],
   "source": [
    "def write_xml_to_file(root, output_filename):\n",
    "    etree.indent(root, space='    ')\n",
    "    doctype = '<!DOCTYPE params PUBLIC \"-//YARP//DTD yarprobotinterface 3.0//EN\" \"http://www.yarp.it/DTD/yarprobotinterfaceV3.0.dtd\">'\n",
    "    xml_object = etree.tostring(root, pretty_print=True, xml_declaration=True, encoding='UTF-8', doctype=doctype)\n",
    "    with open(output_filename, \"wb\") as writer:\n",
    "        writer.write(xml_object)"
   ]
  },
  {
   "cell_type": "code",
   "execution_count": 128,
   "metadata": {},
   "outputs": [],
   "source": [
    "sysml_files = [f for f in os.listdir() if f.endswith('.sysml')]\n",
    "filenames_without_ext = [os.path.splitext(f)[0] for f in sysml_files]\n",
    "\n",
    "def create_files_for_part(robot_name, part_data):\n",
    "    for section, details in part_data.items():\n",
    "        dir_path = os.path.join(robot_name, details[\"path\"])\n",
    "        os.makedirs(dir_path, exist_ok=True)\n",
    "        for file_name in details[\"files\"]:\n",
    "            for file in filenames_without_ext:\n",
    "                if file == section:\n",
    "                    file_path = os.path.join(dir_path, file_name)\n",
    "                    with open(file+\".sysml\", 'r') as f:\n",
    "                        sysml_lines = f.readlines()\n",
    "                    xml_root = sysml_to_xml(sysml_lines, robot_name)\n",
    "                    write_xml_to_file(xml_root, file_path)"
   ]
  },
  {
   "cell_type": "code",
   "execution_count": 129,
   "metadata": {},
   "outputs": [],
   "source": [
    "def extract_general_params():\n",
    "    for robot_type, robot_list in robot_info.items():\n",
    "        for robot in robot_list:\n",
    "            name = robot['robotName']\n",
    "            version = robot['robotVersion']\n",
    "            parts = robot[\"parts\"]\n",
    "\n",
    "            for part in parts:\n",
    "                if part in part_info:\n",
    "                    part_data = part_info[part]\n",
    "                    create_files_for_part(name, part_data)"
   ]
  },
  {
   "cell_type": "code",
   "execution_count": 130,
   "metadata": {},
   "outputs": [],
   "source": [
    "extract_general_params()"
   ]
  }
 ],
 "metadata": {
  "kernelspec": {
   "display_name": "base",
   "language": "python",
   "name": "python3"
  },
  "language_info": {
   "codemirror_mode": {
    "name": "ipython",
    "version": 3
   },
   "file_extension": ".py",
   "mimetype": "text/x-python",
   "name": "python",
   "nbconvert_exporter": "python",
   "pygments_lexer": "ipython3",
   "version": "3.11.5"
  }
 },
 "nbformat": 4,
 "nbformat_minor": 2
}
